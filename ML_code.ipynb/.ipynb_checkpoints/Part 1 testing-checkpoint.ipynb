{
 "cells": [
  {
   "cell_type": "markdown",
   "metadata": {},
   "source": [
    "# Introduction"
   ]
  },
  {
   "cell_type": "markdown",
   "metadata": {},
   "source": [
    "Introduction: In this notebook, we explore the end to end ML process and an analysis of building a composer classifier based on live captured audio. For this project, the client has collected and annotated several hundred audio files and have saved them as simple midi files. The Folder contains the known midi files pertaining to four (4) composers: Bach, Beethoven, Schubert, and Brahms.\n",
    "\n",
    "Goal:\n",
    "The goal of this project is to develop a classifier/pipeline that is able to determine which midi files in the provided PS2 folder are not written by the four (4) composers above (it is a small number)."
   ]
  },
  {
   "cell_type": "markdown",
   "metadata": {},
   "source": [
    "# Imports"
   ]
  },
  {
   "cell_type": "code",
   "execution_count": 1,
   "metadata": {},
   "outputs": [],
   "source": [
    "#pip install mido"
   ]
  },
  {
   "cell_type": "code",
   "execution_count": 2,
   "metadata": {},
   "outputs": [],
   "source": [
    "import os\n",
    "import mido\n",
    "import pandas as pd\n",
    "import numpy as np\n",
    "import matplotlib.pyplot as plt\n",
    "import seaborn as sns\n",
    "from sklearn.model_selection import train_test_split\n",
    "from sklearn.linear_model import LogisticRegression\n",
    "from sklearn.ensemble import RandomForestClassifier\n",
    "from xgboost import XGBClassifier\n",
    "from sklearn.naive_bayes import GaussianNB\n",
    "from sklearn.metrics import classification_report\n",
    "from sklearn.model_selection import GridSearchCV"
   ]
  },
  {
   "cell_type": "markdown",
   "metadata": {},
   "source": [
    "# Initial File Structure Analysis"
   ]
  },
  {
   "cell_type": "code",
   "execution_count": 3,
   "metadata": {},
   "outputs": [],
   "source": [
    "#look at file structure of midi file using mido library\n",
    "test_mid = mido.MidiFile(\"/Users/rachit/Documents/Musical Composer Classification/Data/training/Bach/Violin Sonata in B minor_BWV1014_2282_vhs1_1.mid\", clip=True)"
   ]
  },
  {
   "cell_type": "markdown",
   "metadata": {},
   "source": [
    "Firstly, it is important to understand the structure of how Midi files are organized for music. MIDI files are an essential component of digital music, and it's crucial to understand their organization to make effective use of them. Generally, MIDI files are structured by dividing them into tracks and messages. You can consider MIDI files as albums from various artists, with each album containing multiple songs, and each song can be viewed as a track.\n",
    "\n",
    "Each track in a MIDI file contains a sequence of messages that represent the notes and other musical instructions for a particular instrument or voice. For example, in a piano piece MIDI file, you may have two tracks, one for the left hand and one for the right hand. Each track would contain the notes and other musical instructions for that particular hand.\n",
    "\n",
    "By organizing MIDI files into tracks and messages, it becomes easier to manipulate and analyze the music data. The messages in each track can be analyzed separately, allowing for a more detailed understanding of the individual components of the piece."
   ]
  },
  {
   "cell_type": "markdown",
   "metadata": {},
   "source": [
    "# Feature Creation and Read Data Functions\n"
   ]
  },
  {
   "cell_type": "code",
   "execution_count": 4,
   "metadata": {},
   "outputs": [],
   "source": [
    "# Define a function to extract features from a single MIDI file\n",
    "def extract_features(composer, mid, filename):\n",
    "    import numpy as np\n",
    "    \n",
    "    # Extract melodic features\n",
    "    num_notes = 0\n",
    "    pitches = []\n",
    "    durations = []\n",
    "    \n",
    "    for track in mid.tracks:\n",
    "        for msg in track:\n",
    "            if msg.type == 'note_on':\n",
    "                num_notes+=1\n",
    "                pitch = msg.note\n",
    "                duration = msg.time\n",
    "                pitches.append(pitch)\n",
    "                durations.append(duration)\n",
    "\n",
    "    melodic_range = max(pitches) - min(pitches)\n",
    "    melodic_mean = np.mean(pitches)\n",
    "    melodic_variance = np.var(pitches)\n",
    "    melodic_entropy = -np.sum(np.histogram(pitches, bins=128, density=True)[0] * np.log2(np.histogram(pitches, bins=128, density=True)[0]))\n",
    "\n",
    "    # Extract rhythmic features\n",
    "    tempos = []\n",
    "    durations = []\n",
    "    time_signature = []\n",
    "    key_signature = []\n",
    "    for track in mid.tracks:\n",
    "        for msg in track:\n",
    "            if msg.type == 'set_tempo':\n",
    "                tempo = mido.tempo2bpm(msg.tempo)\n",
    "                tempos.append(tempo)\n",
    "            elif msg.type == 'note_on':\n",
    "                duration = msg.time\n",
    "                durations.append(duration)\n",
    "\n",
    "    rhythmic_tempo_mean = np.mean(tempos)\n",
    "    rhythmic_tempo_variance = np.var(tempos)\n",
    "    rhythmic_duration_mean = np.mean(durations)\n",
    "    rhythmic_duration_variance = np.var(durations)\n",
    "    \n",
    "    # Extract time signature changes\n",
    "    for track in mid.tracks:\n",
    "        for msg in track:\n",
    "            if msg.type == 'time_signature':\n",
    "                time_signature.append((msg.numerator, msg.denominator))\n",
    "\n",
    "    # Extract key signature changes\n",
    "    for track in mid.tracks:\n",
    "        for msg in track:\n",
    "            if msg.type == 'key_signature':\n",
    "                key_signature.append(msg.key)\n",
    "\n",
    "    # Extract chord progressions using a chord recognition algorithm\n",
    "    for track in mid.tracks:\n",
    "        # concatenate all note events into a single stream\n",
    "        stream = []\n",
    "        for msg in track:\n",
    "            if msg.type in ['note_on', 'note_off']:\n",
    "                stream.append(msg)\n",
    "        # parse chord progressions\n",
    "        chord_progressions = []\n",
    "        chord = []\n",
    "        for msg in stream:\n",
    "            if msg.type == 'note_on':\n",
    "                chord.append(msg.note)\n",
    "                if len(chord) > 1:\n",
    "                    chord_progressions.append(chord.copy())\n",
    "\n",
    "    # Extract texture features\n",
    "    instruments = set()\n",
    "    for track in mid.tracks:\n",
    "        for msg in track:\n",
    "            if msg.type == 'program_change':\n",
    "                instruments.add(msg.program)\n",
    "    num_instruments = len(instruments)\n",
    "    num_tracks = len(mid.tracks)\n",
    "    layering = num_tracks - num_instruments\n",
    "\n",
    "\n",
    "        \n",
    "    # Create a dictionary of features and their values\n",
    "    features = {'Composer': composer,\n",
    "                'Filename': filename,\n",
    "                'Number of Tracks': num_tracks,\n",
    "                'Number of Notes': num_notes,\n",
    "                'Melodic Range': melodic_range,\n",
    "                'Melodic Mean': melodic_mean,\n",
    "                'Melodic Variance': melodic_variance,\n",
    "                'Melodic Entropy': melodic_entropy,\n",
    "                'Tempos': tempos,\n",
    "                'Rhythmic Tempo Mean': rhythmic_tempo_mean,\n",
    "                'Rhythmic Tempo Variance': rhythmic_tempo_variance,\n",
    "                'Rhythmic Duration Mean': rhythmic_duration_mean,\n",
    "                'Rhythmic Duration Variance': rhythmic_duration_variance,\n",
    "                'time_signature_changes': time_signature,\n",
    "                'key_signature_changes': key_signature,\n",
    "                'chord_progressions': chord_progressions, \n",
    "                'Number of Instruments': num_instruments,\n",
    "                'Type of Instruments': instruments,\n",
    "                'Layering': layering}\n",
    "                \n",
    "    return features"
   ]
  },
  {
   "cell_type": "markdown",
   "metadata": {},
   "source": [
    "To classify music from different composers, we can extract a range of musical features from the MIDI files. These features can include melodic and rhythmic characteristics, time and key signatures, chord progressions, and instrumental information such as texture.\n",
    "\n",
    "To extract these features, we can use function above that reads the MIDI files and analyzes their contents. This function can extract notes, chords, and other musical instructions from each track and use them to calculate the desired features. These features can then be used to identify patterns and similarities across the music pieces.\n",
    "\n",
    "By analyzing these features, we can begin to distinguish the music of different composers. For example, one composer may tend to use certain chord progressions or melodic motifs more frequently than another, which can help us identify their unique style. Additionally, the instrumental information can provide insight into the texture and orchestration of the music, which can also be used to differentiate between composers."
   ]
  },
  {
   "cell_type": "code",
   "execution_count": 5,
   "metadata": {},
   "outputs": [],
   "source": [
    "def read_mido_files(composer, path):\n",
    "    \"\"\"\n",
    "    Reads all MIDI files in the specified directory and extracts features from them using the\n",
    "    extract_features() function. Returns a pandas DataFrame containing the extracted features for\n",
    "    each file.\n",
    "    Parameters:\n",
    "        composer (str): The name of the composer.\n",
    "        path (str): The path to the directory containing the MIDI files.\n",
    "    Returns:\n",
    "        pd.DataFrame: A DataFrame containing the extracted features for each file.\n",
    "    \"\"\"\n",
    "    features_list = []\n",
    "    \n",
    "    for filename in os.listdir(path):\n",
    "        if filename.endswith('.mid'):\n",
    "            # Load the MIDI file using mido\n",
    "            filepath = os.path.join(path, filename)\n",
    "            mid = mido.MidiFile(filepath, clip=True)\n",
    "            features = extract_features(composer, mid, filename)\n",
    "            features_list.append(features)\n",
    "\n",
    "    return pd.DataFrame(features_list)"
   ]
  },
  {
   "cell_type": "markdown",
   "metadata": {},
   "source": [
    "# Training Data Import and Concat"
   ]
  },
  {
   "cell_type": "code",
   "execution_count": 6,
   "metadata": {},
   "outputs": [
    {
     "name": "stderr",
     "output_type": "stream",
     "text": [
      "/Users/rachit/anaconda3/lib/python3.7/site-packages/ipykernel_launcher.py:22: RuntimeWarning: divide by zero encountered in log2\n",
      "/Users/rachit/anaconda3/lib/python3.7/site-packages/ipykernel_launcher.py:22: RuntimeWarning: invalid value encountered in multiply\n"
     ]
    }
   ],
   "source": [
    "# read all the midi files from different composers and label them for Classfication\n",
    "bach_df = read_mido_files(composer = 'Bach', path = \"/Users/rachit/Documents/Musical Composer Classification/Data/training/Bach\")\n",
    "schubert_df = read_mido_files(composer = 'Schubert', path = \"/Users/rachit/Documents/Musical Composer Classification/Data/training/Schubert\")\n",
    "beethoven_df = read_mido_files(composer = 'Beethoven', path = \"/Users/rachit/Documents/Musical Composer Classification/Data/training/Beethoven\")\n",
    "brahms_df = read_mido_files(composer = 'Brahms', path = \"/Users/rachit/Documents/Musical Composer Classification/Data/training/Brahms\")"
   ]
  },
  {
   "cell_type": "code",
   "execution_count": 7,
   "metadata": {},
   "outputs": [
    {
     "data": {
      "text/html": [
       "<div>\n",
       "<style scoped>\n",
       "    .dataframe tbody tr th:only-of-type {\n",
       "        vertical-align: middle;\n",
       "    }\n",
       "\n",
       "    .dataframe tbody tr th {\n",
       "        vertical-align: top;\n",
       "    }\n",
       "\n",
       "    .dataframe thead th {\n",
       "        text-align: right;\n",
       "    }\n",
       "</style>\n",
       "<table border=\"1\" class=\"dataframe\">\n",
       "  <thead>\n",
       "    <tr style=\"text-align: right;\">\n",
       "      <th></th>\n",
       "      <th>Composer</th>\n",
       "      <th>Filename</th>\n",
       "      <th>Number of Tracks</th>\n",
       "      <th>Number of Notes</th>\n",
       "      <th>Melodic Range</th>\n",
       "      <th>Melodic Mean</th>\n",
       "      <th>Melodic Variance</th>\n",
       "      <th>Melodic Entropy</th>\n",
       "      <th>Tempos</th>\n",
       "      <th>Rhythmic Tempo Mean</th>\n",
       "      <th>Rhythmic Tempo Variance</th>\n",
       "      <th>Rhythmic Duration Mean</th>\n",
       "      <th>Rhythmic Duration Variance</th>\n",
       "      <th>time_signature_changes</th>\n",
       "      <th>key_signature_changes</th>\n",
       "      <th>chord_progressions</th>\n",
       "      <th>Number of Instruments</th>\n",
       "      <th>Type of Instruments</th>\n",
       "      <th>Layering</th>\n",
       "    </tr>\n",
       "  </thead>\n",
       "  <tbody>\n",
       "    <tr>\n",
       "      <th>0</th>\n",
       "      <td>Bach</td>\n",
       "      <td>Violin Sonata in B minor_BWV1014_2282_vhs1_1.mid</td>\n",
       "      <td>5</td>\n",
       "      <td>1049</td>\n",
       "      <td>51</td>\n",
       "      <td>67.664442</td>\n",
       "      <td>108.932206</td>\n",
       "      <td>NaN</td>\n",
       "      <td>[92.00012880018032, 90.00009000009, 86.0000516...</td>\n",
       "      <td>85.500059</td>\n",
       "      <td>63.550262</td>\n",
       "      <td>30.829361</td>\n",
       "      <td>2.564629e+04</td>\n",
       "      <td>[(6, 4)]</td>\n",
       "      <td>[Bm, Bm, Bm]</td>\n",
       "      <td>[[47, 50], [47, 50, 54], [47, 50, 54, 59], [47...</td>\n",
       "      <td>2</td>\n",
       "      <td>{40, 6}</td>\n",
       "      <td>3</td>\n",
       "    </tr>\n",
       "    <tr>\n",
       "      <th>1</th>\n",
       "      <td>Bach</td>\n",
       "      <td>Cello Suite 4_BWV1010_2297_cs4-5bou.mid</td>\n",
       "      <td>17</td>\n",
       "      <td>2700</td>\n",
       "      <td>31</td>\n",
       "      <td>53.607407</td>\n",
       "      <td>28.164390</td>\n",
       "      <td>NaN</td>\n",
       "      <td>[250.0, 167.99993280002687, 83.99996640001343]</td>\n",
       "      <td>167.333300</td>\n",
       "      <td>4592.890726</td>\n",
       "      <td>480.000000</td>\n",
       "      <td>3.310292e+07</td>\n",
       "      <td>[(4, 4)]</td>\n",
       "      <td>[Eb]</td>\n",
       "      <td>[]</td>\n",
       "      <td>1</td>\n",
       "      <td>{42}</td>\n",
       "      <td>16</td>\n",
       "    </tr>\n",
       "    <tr>\n",
       "      <th>2</th>\n",
       "      <td>Bach</td>\n",
       "      <td>Cello Suite 4_BWV1010_2298_cs4-6gig.mid</td>\n",
       "      <td>17</td>\n",
       "      <td>1932</td>\n",
       "      <td>25</td>\n",
       "      <td>52.652174</td>\n",
       "      <td>27.796201</td>\n",
       "      <td>NaN</td>\n",
       "      <td>[250.0, 190.0002850004275, 94.99999208333399]</td>\n",
       "      <td>178.333426</td>\n",
       "      <td>4072.224879</td>\n",
       "      <td>126.583851</td>\n",
       "      <td>2.371814e+04</td>\n",
       "      <td>[(12, 8)]</td>\n",
       "      <td>[Eb]</td>\n",
       "      <td>[]</td>\n",
       "      <td>1</td>\n",
       "      <td>{42}</td>\n",
       "      <td>16</td>\n",
       "    </tr>\n",
       "    <tr>\n",
       "      <th>3</th>\n",
       "      <td>Bach</td>\n",
       "      <td>Cello Suite 3_BWV1009_2219_cs3-3cou.mid</td>\n",
       "      <td>18</td>\n",
       "      <td>1980</td>\n",
       "      <td>28</td>\n",
       "      <td>52.731313</td>\n",
       "      <td>36.139929</td>\n",
       "      <td>NaN</td>\n",
       "      <td>[250.0, 154.99990958338608]</td>\n",
       "      <td>202.499955</td>\n",
       "      <td>2256.254295</td>\n",
       "      <td>491.151515</td>\n",
       "      <td>5.395973e+07</td>\n",
       "      <td>[(3, 4)]</td>\n",
       "      <td>[C]</td>\n",
       "      <td>[]</td>\n",
       "      <td>1</td>\n",
       "      <td>{42}</td>\n",
       "      <td>17</td>\n",
       "    </tr>\n",
       "    <tr>\n",
       "      <th>4</th>\n",
       "      <td>Bach</td>\n",
       "      <td>Violin Sonata No 1 in G minor_BWV1001_2241_vs1...</td>\n",
       "      <td>4</td>\n",
       "      <td>609</td>\n",
       "      <td>27</td>\n",
       "      <td>71.435140</td>\n",
       "      <td>41.119356</td>\n",
       "      <td>NaN</td>\n",
       "      <td>[30.0, 27.00000270000027, 24.0, 30.0, 27.00000...</td>\n",
       "      <td>26.325583</td>\n",
       "      <td>7.940504</td>\n",
       "      <td>80.866995</td>\n",
       "      <td>1.252173e+05</td>\n",
       "      <td>[(4, 4)]</td>\n",
       "      <td>[Dm, Dm, Dm]</td>\n",
       "      <td>[[55, 57], [55, 57, 62], [55, 57, 62, 55], [55...</td>\n",
       "      <td>3</td>\n",
       "      <td>{40, 41, 42}</td>\n",
       "      <td>1</td>\n",
       "    </tr>\n",
       "  </tbody>\n",
       "</table>\n",
       "</div>"
      ],
      "text/plain": [
       "  Composer                                           Filename  \\\n",
       "0     Bach   Violin Sonata in B minor_BWV1014_2282_vhs1_1.mid   \n",
       "1     Bach            Cello Suite 4_BWV1010_2297_cs4-5bou.mid   \n",
       "2     Bach            Cello Suite 4_BWV1010_2298_cs4-6gig.mid   \n",
       "3     Bach            Cello Suite 3_BWV1009_2219_cs3-3cou.mid   \n",
       "4     Bach  Violin Sonata No 1 in G minor_BWV1001_2241_vs1...   \n",
       "\n",
       "   Number of Tracks  Number of Notes  Melodic Range  Melodic Mean  \\\n",
       "0                 5             1049             51     67.664442   \n",
       "1                17             2700             31     53.607407   \n",
       "2                17             1932             25     52.652174   \n",
       "3                18             1980             28     52.731313   \n",
       "4                 4              609             27     71.435140   \n",
       "\n",
       "   Melodic Variance  Melodic Entropy  \\\n",
       "0        108.932206              NaN   \n",
       "1         28.164390              NaN   \n",
       "2         27.796201              NaN   \n",
       "3         36.139929              NaN   \n",
       "4         41.119356              NaN   \n",
       "\n",
       "                                              Tempos  Rhythmic Tempo Mean  \\\n",
       "0  [92.00012880018032, 90.00009000009, 86.0000516...            85.500059   \n",
       "1     [250.0, 167.99993280002687, 83.99996640001343]           167.333300   \n",
       "2      [250.0, 190.0002850004275, 94.99999208333399]           178.333426   \n",
       "3                        [250.0, 154.99990958338608]           202.499955   \n",
       "4  [30.0, 27.00000270000027, 24.0, 30.0, 27.00000...            26.325583   \n",
       "\n",
       "   Rhythmic Tempo Variance  Rhythmic Duration Mean  \\\n",
       "0                63.550262               30.829361   \n",
       "1              4592.890726              480.000000   \n",
       "2              4072.224879              126.583851   \n",
       "3              2256.254295              491.151515   \n",
       "4                 7.940504               80.866995   \n",
       "\n",
       "   Rhythmic Duration Variance time_signature_changes key_signature_changes  \\\n",
       "0                2.564629e+04               [(6, 4)]          [Bm, Bm, Bm]   \n",
       "1                3.310292e+07               [(4, 4)]                  [Eb]   \n",
       "2                2.371814e+04              [(12, 8)]                  [Eb]   \n",
       "3                5.395973e+07               [(3, 4)]                   [C]   \n",
       "4                1.252173e+05               [(4, 4)]          [Dm, Dm, Dm]   \n",
       "\n",
       "                                  chord_progressions  Number of Instruments  \\\n",
       "0  [[47, 50], [47, 50, 54], [47, 50, 54, 59], [47...                      2   \n",
       "1                                                 []                      1   \n",
       "2                                                 []                      1   \n",
       "3                                                 []                      1   \n",
       "4  [[55, 57], [55, 57, 62], [55, 57, 62, 55], [55...                      3   \n",
       "\n",
       "  Type of Instruments  Layering  \n",
       "0             {40, 6}         3  \n",
       "1                {42}        16  \n",
       "2                {42}        16  \n",
       "3                {42}        17  \n",
       "4        {40, 41, 42}         1  "
      ]
     },
     "execution_count": 7,
     "metadata": {},
     "output_type": "execute_result"
    }
   ],
   "source": [
    "# Concat all the data to create final training dataset\n",
    "all_composers = pd.concat([bach_df, schubert_df, beethoven_df, brahms_df], axis=0)\n",
    "all_composers.head()"
   ]
  },
  {
   "cell_type": "markdown",
   "metadata": {},
   "source": [
    "# EDA on Composers"
   ]
  },
  {
   "cell_type": "markdown",
   "metadata": {},
   "source": [
    "We can start by getting a basic understanding of the numeric columns in our data. We see that Melodic Entropy has all null values. This field should be removed from our model. "
   ]
  },
  {
   "cell_type": "code",
   "execution_count": 8,
   "metadata": {},
   "outputs": [
    {
     "data": {
      "image/png": "[encoded data removed]",
      "text/plain": [
       "<Figure size 432x288 with 1 Axes>"
      ]
     },
     "metadata": {
      "needs_background": "light"
     },
     "output_type": "display_data"
    }
   ],
   "source": [
    "# Group the data by composer\n",
    "grouped = all_composers.groupby('Composer')\n",
    "\n",
    "# Plot the rhythmic features by composer\n",
    "for name, group in grouped:\n",
    "    plt.scatter(group['Rhythmic Tempo Variance'], group['Rhythmic Duration Variance'], label=name)\n",
    "\n",
    "plt.title(\"Rhythmic Variance by Composer\")\n",
    "plt.xlabel(\"Tempo Variance\")\n",
    "plt.ylabel(\"Duration Variance\")\n",
    "plt.legend()\n",
    "plt.show()"
   ]
  },
  {
   "cell_type": "code",
   "execution_count": 9,
   "metadata": {},
   "outputs": [
    {
     "data": {
      "text/html": [
       "<div>\n",
       "<style scoped>\n",
       "    .dataframe tbody tr th:only-of-type {\n",
       "        vertical-align: middle;\n",
       "    }\n",
       "\n",
       "    .dataframe tbody tr th {\n",
       "        vertical-align: top;\n",
       "    }\n",
       "\n",
       "    .dataframe thead th {\n",
       "        text-align: right;\n",
       "    }\n",
       "</style>\n",
       "<table border=\"1\" class=\"dataframe\">\n",
       "  <thead>\n",
       "    <tr style=\"text-align: right;\">\n",
       "      <th></th>\n",
       "      <th>Number of Tracks</th>\n",
       "      <th>Number of Notes</th>\n",
       "      <th>Melodic Range</th>\n",
       "      <th>Melodic Mean</th>\n",
       "      <th>Melodic Variance</th>\n",
       "      <th>Melodic Entropy</th>\n",
       "      <th>Rhythmic Tempo Mean</th>\n",
       "      <th>Rhythmic Tempo Variance</th>\n",
       "      <th>Rhythmic Duration Mean</th>\n",
       "      <th>Rhythmic Duration Variance</th>\n",
       "      <th>Number of Instruments</th>\n",
       "      <th>Layering</th>\n",
       "    </tr>\n",
       "  </thead>\n",
       "  <tbody>\n",
       "    <tr>\n",
       "      <th>count</th>\n",
       "      <td>194.000000</td>\n",
       "      <td>194.000000</td>\n",
       "      <td>194.000000</td>\n",
       "      <td>194.000000</td>\n",
       "      <td>194.000000</td>\n",
       "      <td>0.0</td>\n",
       "      <td>194.000000</td>\n",
       "      <td>194.000000</td>\n",
       "      <td>194.000000</td>\n",
       "      <td>1.940000e+02</td>\n",
       "      <td>194.000000</td>\n",
       "      <td>194.000000</td>\n",
       "    </tr>\n",
       "    <tr>\n",
       "      <th>mean</th>\n",
       "      <td>5.613402</td>\n",
       "      <td>4997.731959</td>\n",
       "      <td>59.902062</td>\n",
       "      <td>62.966530</td>\n",
       "      <td>150.055825</td>\n",
       "      <td>NaN</td>\n",
       "      <td>116.425744</td>\n",
       "      <td>629.155370</td>\n",
       "      <td>74.416623</td>\n",
       "      <td>2.523531e+06</td>\n",
       "      <td>1.953608</td>\n",
       "      <td>3.659794</td>\n",
       "    </tr>\n",
       "    <tr>\n",
       "      <th>std</th>\n",
       "      <td>4.109893</td>\n",
       "      <td>4194.619542</td>\n",
       "      <td>10.300445</td>\n",
       "      <td>3.462163</td>\n",
       "      <td>47.242503</td>\n",
       "      <td>NaN</td>\n",
       "      <td>60.107534</td>\n",
       "      <td>1296.827455</td>\n",
       "      <td>99.548239</td>\n",
       "      <td>1.179813e+07</td>\n",
       "      <td>1.440679</td>\n",
       "      <td>3.640266</td>\n",
       "    </tr>\n",
       "    <tr>\n",
       "      <th>min</th>\n",
       "      <td>2.000000</td>\n",
       "      <td>509.000000</td>\n",
       "      <td>25.000000</td>\n",
       "      <td>52.652174</td>\n",
       "      <td>27.796201</td>\n",
       "      <td>NaN</td>\n",
       "      <td>17.385322</td>\n",
       "      <td>0.000000</td>\n",
       "      <td>6.134034</td>\n",
       "      <td>3.740460e+02</td>\n",
       "      <td>0.000000</td>\n",
       "      <td>1.000000</td>\n",
       "    </tr>\n",
       "    <tr>\n",
       "      <th>25%</th>\n",
       "      <td>3.000000</td>\n",
       "      <td>2090.500000</td>\n",
       "      <td>58.000000</td>\n",
       "      <td>61.383959</td>\n",
       "      <td>127.434184</td>\n",
       "      <td>NaN</td>\n",
       "      <td>62.618881</td>\n",
       "      <td>39.118023</td>\n",
       "      <td>23.755230</td>\n",
       "      <td>1.234522e+04</td>\n",
       "      <td>1.000000</td>\n",
       "      <td>2.000000</td>\n",
       "    </tr>\n",
       "    <tr>\n",
       "      <th>50%</th>\n",
       "      <td>4.000000</td>\n",
       "      <td>3855.000000</td>\n",
       "      <td>60.000000</td>\n",
       "      <td>63.271760</td>\n",
       "      <td>153.507755</td>\n",
       "      <td>NaN</td>\n",
       "      <td>114.594826</td>\n",
       "      <td>157.170924</td>\n",
       "      <td>42.130997</td>\n",
       "      <td>5.037714e+04</td>\n",
       "      <td>1.000000</td>\n",
       "      <td>2.000000</td>\n",
       "    </tr>\n",
       "    <tr>\n",
       "      <th>75%</th>\n",
       "      <td>6.000000</td>\n",
       "      <td>6358.500000</td>\n",
       "      <td>65.000000</td>\n",
       "      <td>64.875079</td>\n",
       "      <td>177.055302</td>\n",
       "      <td>NaN</td>\n",
       "      <td>154.674774</td>\n",
       "      <td>581.210719</td>\n",
       "      <td>82.081835</td>\n",
       "      <td>4.484838e+05</td>\n",
       "      <td>3.000000</td>\n",
       "      <td>4.000000</td>\n",
       "    </tr>\n",
       "    <tr>\n",
       "      <th>max</th>\n",
       "      <td>21.000000</td>\n",
       "      <td>22962.000000</td>\n",
       "      <td>77.000000</td>\n",
       "      <td>72.565403</td>\n",
       "      <td>259.817619</td>\n",
       "      <td>NaN</td>\n",
       "      <td>300.000000</td>\n",
       "      <td>10000.000000</td>\n",
       "      <td>858.357775</td>\n",
       "      <td>1.383387e+08</td>\n",
       "      <td>9.000000</td>\n",
       "      <td>17.000000</td>\n",
       "    </tr>\n",
       "  </tbody>\n",
       "</table>\n",
       "</div>"
      ],
      "text/plain": [
       "       Number of Tracks  Number of Notes  Melodic Range  Melodic Mean  \\\n",
       "count        194.000000       194.000000     194.000000    194.000000   \n",
       "mean           5.613402      4997.731959      59.902062     62.966530   \n",
       "std            4.109893      4194.619542      10.300445      3.462163   \n",
       "min            2.000000       509.000000      25.000000     52.652174   \n",
       "25%            3.000000      2090.500000      58.000000     61.383959   \n",
       "50%            4.000000      3855.000000      60.000000     63.271760   \n",
       "75%            6.000000      6358.500000      65.000000     64.875079   \n",
       "max           21.000000     22962.000000      77.000000     72.565403   \n",
       "\n",
       "       Melodic Variance  Melodic Entropy  Rhythmic Tempo Mean  \\\n",
       "count        194.000000              0.0           194.000000   \n",
       "mean         150.055825              NaN           116.425744   \n",
       "std           47.242503              NaN            60.107534   \n",
       "min           27.796201              NaN            17.385322   \n",
       "25%          127.434184              NaN            62.618881   \n",
       "50%          153.507755              NaN           114.594826   \n",
       "75%          177.055302              NaN           154.674774   \n",
       "max          259.817619              NaN           300.000000   \n",
       "\n",
       "       Rhythmic Tempo Variance  Rhythmic Duration Mean  \\\n",
       "count               194.000000              194.000000   \n",
       "mean                629.155370               74.416623   \n",
       "std                1296.827455               99.548239   \n",
       "min                   0.000000                6.134034   \n",
       "25%                  39.118023               23.755230   \n",
       "50%                 157.170924               42.130997   \n",
       "75%                 581.210719               82.081835   \n",
       "max               10000.000000              858.357775   \n",
       "\n",
       "       Rhythmic Duration Variance  Number of Instruments    Layering  \n",
       "count                1.940000e+02             194.000000  194.000000  \n",
       "mean                 2.523531e+06               1.953608    3.659794  \n",
       "std                  1.179813e+07               1.440679    3.640266  \n",
       "min                  3.740460e+02               0.000000    1.000000  \n",
       "25%                  1.234522e+04               1.000000    2.000000  \n",
       "50%                  5.037714e+04               1.000000    2.000000  \n",
       "75%                  4.484838e+05               3.000000    4.000000  \n",
       "max                  1.383387e+08               9.000000   17.000000  "
      ]
     },
     "execution_count": 9,
     "metadata": {},
     "output_type": "execute_result"
    }
   ],
   "source": [
    "all_composers.describe()"
   ]
  },
  {
   "cell_type": "code",
   "execution_count": 10,
   "metadata": {
    "scrolled": true
   },
   "outputs": [
    {
     "name": "stdout",
     "output_type": "stream",
     "text": [
      "Composer has 0 null values\n",
      "Filename has 0 null values\n",
      "Number of Tracks has 0 null values\n",
      "Number of Notes has 0 null values\n",
      "Melodic Range has 0 null values\n",
      "Melodic Mean has 0 null values\n",
      "Melodic Variance has 0 null values\n",
      "Melodic Entropy has 194 null values\n",
      "Tempos has 0 null values\n",
      "Rhythmic Tempo Mean has 0 null values\n",
      "Rhythmic Tempo Variance has 0 null values\n",
      "Rhythmic Duration Mean has 0 null values\n",
      "Rhythmic Duration Variance has 0 null values\n",
      "time_signature_changes has 0 null values\n",
      "key_signature_changes has 0 null values\n",
      "chord_progressions has 0 null values\n",
      "Number of Instruments has 0 null values\n",
      "Type of Instruments has 0 null values\n",
      "Layering has 0 null values\n"
     ]
    }
   ],
   "source": [
    "# Loop over the columns and print the count of null values\n",
    "for col in all_composers.columns:\n",
    "    print(f\"{col} has {all_composers[col].isna().sum()} null values\")"
   ]
  },
  {
   "cell_type": "markdown",
   "metadata": {},
   "source": [
    "We want to experiment with making the dictionaries and lists from our data useful. It would be nice to analyze which Instruments are most common among composers and if there is unique key signiture that a composer likes to use often. After further analysis, I found that using the composer name will cause data leakage. Therefore, I will use filename. "
   ]
  },
  {
   "cell_type": "code",
   "execution_count": 11,
   "metadata": {},
   "outputs": [
    {
     "name": "stdout",
     "output_type": "stream",
     "text": [
      "Composer     \n",
      "Bach       42     12\n",
      "           40      8\n",
      "           41      4\n",
      "           6       3\n",
      "Beethoven  0     103\n",
      "           40     41\n",
      "           42     28\n",
      "           41     23\n",
      "           45     10\n",
      "           71      9\n",
      "           70      6\n",
      "           60      6\n",
      "           68      4\n",
      "Brahms     40     15\n",
      "           42     13\n",
      "           45     11\n",
      "           41     11\n",
      "           0      10\n",
      "           60      6\n",
      "           71      5\n",
      "           73      2\n",
      "           70      2\n",
      "           43      2\n",
      "Schubert   0      21\n",
      "           42      6\n",
      "           40      6\n",
      "           41      5\n",
      "           43      4\n",
      "           45      3\n",
      "Name: Type of Instruments, dtype: int64\n",
      "Composer\n",
      "Bach             [(Bach, 42)]\n",
      "Beethoven    [(Beethoven, 0)]\n",
      "Brahms         [(Brahms, 40)]\n",
      "Schubert      [(Schubert, 0)]\n",
      "Name: Type of Instruments, dtype: object\n"
     ]
    }
   ],
   "source": [
    "# **Find the most common instruments per file\n",
    "# group the DataFrame by composer and apply value_counts() to the \"Type of Instrument\" column\n",
    "instrument_counts = all_composers.groupby('Composer')['Type of Instruments'].apply(lambda x: pd.Series([i for j in x for i in j]).value_counts())\n",
    "\n",
    "# get the index of the maximum value for each composer\n",
    "most_common_instrument = instrument_counts.groupby('Composer').apply(lambda x: x[x == x.max()].index.values)\n",
    "\n",
    "print(instrument_counts)\n",
    "print(most_common_instrument)"
   ]
  },
  {
   "cell_type": "code",
   "execution_count": 12,
   "metadata": {},
   "outputs": [
    {
     "name": "stdout",
     "output_type": "stream",
     "text": [
      "    Composer            Instrument Count\n",
      "0       Bach                 Viola    12\n",
      "1  Beethoven  Acoustic Grand Piano   103\n",
      "2     Brahms                Violin    15\n",
      "3   Schubert  Acoustic Grand Piano    21\n"
     ]
    }
   ],
   "source": [
    "import pandas as pd\n",
    "\n",
    "# create an empty DataFrame with the desired columns\n",
    "df = pd.DataFrame(columns=['Composer', 'Instrument', 'Count'])\n",
    "\n",
    "# add a new row to the DataFrame\n",
    "df = df.append({'Composer': 'Bach', 'Instrument': 'Viola', 'Count': 12}, ignore_index=True)\n",
    "# add rows for Beethoven, Brahms, and Schubert\n",
    "df = df.append({'Composer': 'Beethoven', 'Instrument': 'Acoustic Grand Piano', 'Count': 103}, ignore_index=True)\n",
    "df = df.append({'Composer': 'Brahms', 'Instrument': 'Violin', 'Count': 15}, ignore_index=True)\n",
    "df = df.append({'Composer': 'Schubert', 'Instrument': 'Acoustic Grand Piano', 'Count': 21}, ignore_index=True)\n",
    "\n",
    "# print the DataFrame\n",
    "print(df)"
   ]
  },
  {
   "cell_type": "code",
   "execution_count": 13,
   "metadata": {},
   "outputs": [
    {
     "data": {
      "image/png": "[encoded data removed]",
      "text/plain": [
       "<Figure size 720x576 with 1 Axes>"
      ]
     },
     "metadata": {
      "needs_background": "light"
     },
     "output_type": "display_data"
    }
   ],
   "source": [
    "import matplotlib.pyplot as plt\n",
    "\n",
    "# sort the DataFrame by Count in descending order\n",
    "df = df.sort_values(by='Count', ascending=True)\n",
    "\n",
    "# create the bar chart\n",
    "fig, ax = plt.subplots(figsize=(10, 8))\n",
    "bars = ax.barh(df['Composer'] + ' \\n ' + df['Instrument'], df['Count'], color='limegreen')\n",
    "\n",
    "# add labels to the bars\n",
    "for bar in bars:\n",
    "    width = bar.get_width()\n",
    "    label = '{:,}'.format(int(width))\n",
    "    ax.text(width + 1, bar.get_y() + bar.get_height()/2, label, ha='left', va='center')\n",
    "\n",
    "# set the axis labels and title\n",
    "ax.set_xlabel('Count')\n",
    "ax.set_ylabel('Composer - Instrument')\n",
    "ax.set_title('Most Common Instruments by Composer')\n",
    "\n",
    "plt.show()"
   ]
  },
  {
   "cell_type": "code",
   "execution_count": 14,
   "metadata": {},
   "outputs": [],
   "source": [
    "# # convert sets to tuples in 'Type of Instruments' column\n",
    "# all_composers['Type of Instruments'] = all_composers['Type of Instruments'].apply(lambda x: tuple(x))\n",
    "\n",
    "# # create a bar chart of the most common instrument played by each composer\n",
    "# most_common_instrument = all_composers.groupby('Composer')['Type of Instruments'].value_counts().groupby('Composer').head(1)\n",
    "# most_common_instrument.sort_values().plot(kind='barh', figsize=(10,6), color='limegreen')\n",
    "\n",
    "# # customize the plot\n",
    "# plt.title('Most Common Instrument Played by Each Composer')\n",
    "# plt.xlabel('Number of Occurrences')\n",
    "# plt.ylabel('Composer')\n",
    "\n",
    "# # add labels to the bars\n",
    "# for i, v in enumerate(most_common_instrument.sort_values()):\n",
    "#     plt.text(v + 0.2, i - 0.1, str(v), color='black')\n",
    "# plt.show()"
   ]
  },
  {
   "cell_type": "markdown",
   "metadata": {},
   "source": [
    "Most Common Instrument seems to vary among our Composers. Bach Beethoven and Brahms seem to have different favorites when it comes to an Instrument. Schubert and Beethoven favor the same instrument.We can use this variable as a Categorical Variable for our Model. (Note since this feature is already numeric and maps to a specfic instrument we do not need to perform label encoding). After further analysis, key_signiture change was removed from the model since it causes data leakage. "
   ]
  },
  {
   "cell_type": "code",
   "execution_count": 15,
   "metadata": {},
   "outputs": [],
   "source": [
    "# # create a new DataFrame with the Composer and Most Common Instrument columns\n",
    "# most_common_df = pd.DataFrame({\n",
    "#     'Filename': most_common_instrument.index,\n",
    "#     'Most Common Instrument': [val[0][1] for val in most_common_instrument.values]\n",
    "# })\n",
    "# most_common_df\n",
    "\n",
    "# # merge the new DataFrame with all_composers\n",
    "# all_composers = all_composers.merge(most_common_df, on='Composer')"
   ]
  },
  {
   "cell_type": "code",
   "execution_count": 16,
   "metadata": {},
   "outputs": [
    {
     "name": "stderr",
     "output_type": "stream",
     "text": [
      "/Users/rachit/anaconda3/lib/python3.7/site-packages/ipykernel_launcher.py:6: SettingWithCopyWarning: \n",
      "A value is trying to be set on a copy of a slice from a DataFrame.\n",
      "Try using .loc[row_indexer,col_indexer] = value instead\n",
      "\n",
      "See the caveats in the documentation: https://pandas.pydata.org/pandas-docs/stable/user_guide/indexing.html#returning-a-view-versus-a-copy\n",
      "  \n"
     ]
    },
    {
     "data": {
      "text/html": [
       "<div>\n",
       "<style scoped>\n",
       "    .dataframe tbody tr th:only-of-type {\n",
       "        vertical-align: middle;\n",
       "    }\n",
       "\n",
       "    .dataframe tbody tr th {\n",
       "        vertical-align: top;\n",
       "    }\n",
       "\n",
       "    .dataframe thead th {\n",
       "        text-align: right;\n",
       "    }\n",
       "</style>\n",
       "<table border=\"1\" class=\"dataframe\">\n",
       "  <thead>\n",
       "    <tr style=\"text-align: right;\">\n",
       "      <th></th>\n",
       "      <th>Composer</th>\n",
       "      <th>Num Distinct Key Sigs</th>\n",
       "    </tr>\n",
       "  </thead>\n",
       "  <tbody>\n",
       "    <tr>\n",
       "      <th>1</th>\n",
       "      <td>Beethoven</td>\n",
       "      <td>74</td>\n",
       "    </tr>\n",
       "    <tr>\n",
       "      <th>3</th>\n",
       "      <td>Schubert</td>\n",
       "      <td>20</td>\n",
       "    </tr>\n",
       "    <tr>\n",
       "      <th>2</th>\n",
       "      <td>Brahms</td>\n",
       "      <td>16</td>\n",
       "    </tr>\n",
       "    <tr>\n",
       "      <th>0</th>\n",
       "      <td>Bach</td>\n",
       "      <td>10</td>\n",
       "    </tr>\n",
       "  </tbody>\n",
       "</table>\n",
       "</div>"
      ],
      "text/plain": [
       "    Composer  Num Distinct Key Sigs\n",
       "1  Beethoven                     74\n",
       "3   Schubert                     20\n",
       "2     Brahms                     16\n",
       "0       Bach                     10"
      ]
     },
     "execution_count": 16,
     "metadata": {},
     "output_type": "execute_result"
    }
   ],
   "source": [
    "# *Column key signature changes - find the number of distinct key signatures per composer\n",
    "# create a new DataFrame with only the 'Composer' and 'Key Signature' columns\n",
    "key_sig_df = all_composers[['Composer', 'key_signature_changes']]\n",
    "\n",
    "# convert key_signature_changes column to tuples\n",
    "key_sig_df['key_signature_changes'] = key_sig_df['key_signature_changes'].apply(tuple)\n",
    "\n",
    "# group the DataFrame by 'Composer' and count the number of unique key signatures\n",
    "num_key_sigs = key_sig_df.groupby('Composer')['key_signature_changes'].nunique().reset_index(name='Num Distinct Key Sigs')\n",
    "\n",
    "# sort the DataFrame by the number of unique key signatures in descending order\n",
    "num_key_sigs = num_key_sigs.sort_values('Num Distinct Key Sigs', ascending=False)\n",
    "\n",
    "# print the composers with the most distinct key signatures\n",
    "num_key_sigs"
   ]
  },
  {
   "cell_type": "markdown",
   "metadata": {},
   "source": [
    "The number of unique key signures seem to drastically vary among our composers. Beethoven seems to have many unique key signitures while Bach only has a few."
   ]
  },
  {
   "cell_type": "code",
   "execution_count": 17,
   "metadata": {},
   "outputs": [],
   "source": [
    "# merge the new key signiture field with all_composers\n",
    "all_composers = all_composers.merge(num_key_sigs, on='Composer')"
   ]
  },
  {
   "cell_type": "code",
   "execution_count": 18,
   "metadata": {},
   "outputs": [
    {
     "data": {
      "text/html": [
       "<div>\n",
       "<style scoped>\n",
       "    .dataframe tbody tr th:only-of-type {\n",
       "        vertical-align: middle;\n",
       "    }\n",
       "\n",
       "    .dataframe tbody tr th {\n",
       "        vertical-align: top;\n",
       "    }\n",
       "\n",
       "    .dataframe thead th {\n",
       "        text-align: right;\n",
       "    }\n",
       "</style>\n",
       "<table border=\"1\" class=\"dataframe\">\n",
       "  <thead>\n",
       "    <tr style=\"text-align: right;\">\n",
       "      <th></th>\n",
       "      <th>Composer</th>\n",
       "      <th>Filename</th>\n",
       "      <th>Number of Tracks</th>\n",
       "      <th>Number of Notes</th>\n",
       "      <th>Melodic Range</th>\n",
       "      <th>Melodic Mean</th>\n",
       "      <th>Melodic Variance</th>\n",
       "      <th>Melodic Entropy</th>\n",
       "      <th>Tempos</th>\n",
       "      <th>Rhythmic Tempo Mean</th>\n",
       "      <th>...</th>\n",
       "      <th>Rhythmic Duration Mean</th>\n",
       "      <th>Rhythmic Duration Variance</th>\n",
       "      <th>time_signature_changes</th>\n",
       "      <th>key_signature_changes</th>\n",
       "      <th>chord_progressions</th>\n",
       "      <th>Number of Instruments</th>\n",
       "      <th>Type of Instruments</th>\n",
       "      <th>Layering</th>\n",
       "      <th>Num Distinct Key Sigs</th>\n",
       "      <th>Count per Track</th>\n",
       "    </tr>\n",
       "  </thead>\n",
       "  <tbody>\n",
       "    <tr>\n",
       "      <th>0</th>\n",
       "      <td>Bach</td>\n",
       "      <td>Violin Sonata in B minor_BWV1014_2282_vhs1_1.mid</td>\n",
       "      <td>5</td>\n",
       "      <td>1049</td>\n",
       "      <td>51</td>\n",
       "      <td>67.664442</td>\n",
       "      <td>108.932206</td>\n",
       "      <td>NaN</td>\n",
       "      <td>[92.00012880018032, 90.00009000009, 86.0000516...</td>\n",
       "      <td>85.500059</td>\n",
       "      <td>...</td>\n",
       "      <td>30.829361</td>\n",
       "      <td>2.564629e+04</td>\n",
       "      <td>[(6, 4)]</td>\n",
       "      <td>[Bm, Bm, Bm]</td>\n",
       "      <td>[[47, 50], [47, 50, 54], [47, 50, 54, 59], [47...</td>\n",
       "      <td>2</td>\n",
       "      <td>{40, 6}</td>\n",
       "      <td>3</td>\n",
       "      <td>10</td>\n",
       "      <td>1.497409</td>\n",
       "    </tr>\n",
       "    <tr>\n",
       "      <th>1</th>\n",
       "      <td>Bach</td>\n",
       "      <td>Cello Suite 4_BWV1010_2297_cs4-5bou.mid</td>\n",
       "      <td>17</td>\n",
       "      <td>2700</td>\n",
       "      <td>31</td>\n",
       "      <td>53.607407</td>\n",
       "      <td>28.164390</td>\n",
       "      <td>NaN</td>\n",
       "      <td>[250.0, 167.99993280002687, 83.99996640001343]</td>\n",
       "      <td>167.333300</td>\n",
       "      <td>...</td>\n",
       "      <td>480.000000</td>\n",
       "      <td>3.310292e+07</td>\n",
       "      <td>[(4, 4)]</td>\n",
       "      <td>[Eb]</td>\n",
       "      <td>[]</td>\n",
       "      <td>1</td>\n",
       "      <td>{42}</td>\n",
       "      <td>16</td>\n",
       "      <td>10</td>\n",
       "      <td>1.497409</td>\n",
       "    </tr>\n",
       "    <tr>\n",
       "      <th>2</th>\n",
       "      <td>Bach</td>\n",
       "      <td>Cello Suite 4_BWV1010_2298_cs4-6gig.mid</td>\n",
       "      <td>17</td>\n",
       "      <td>1932</td>\n",
       "      <td>25</td>\n",
       "      <td>52.652174</td>\n",
       "      <td>27.796201</td>\n",
       "      <td>NaN</td>\n",
       "      <td>[250.0, 190.0002850004275, 94.99999208333399]</td>\n",
       "      <td>178.333426</td>\n",
       "      <td>...</td>\n",
       "      <td>126.583851</td>\n",
       "      <td>2.371814e+04</td>\n",
       "      <td>[(12, 8)]</td>\n",
       "      <td>[Eb]</td>\n",
       "      <td>[]</td>\n",
       "      <td>1</td>\n",
       "      <td>{42}</td>\n",
       "      <td>16</td>\n",
       "      <td>10</td>\n",
       "      <td>1.497409</td>\n",
       "    </tr>\n",
       "    <tr>\n",
       "      <th>3</th>\n",
       "      <td>Bach</td>\n",
       "      <td>Cello Suite 3_BWV1009_2219_cs3-3cou.mid</td>\n",
       "      <td>18</td>\n",
       "      <td>1980</td>\n",
       "      <td>28</td>\n",
       "      <td>52.731313</td>\n",
       "      <td>36.139929</td>\n",
       "      <td>NaN</td>\n",
       "      <td>[250.0, 154.99990958338608]</td>\n",
       "      <td>202.499955</td>\n",
       "      <td>...</td>\n",
       "      <td>491.151515</td>\n",
       "      <td>5.395973e+07</td>\n",
       "      <td>[(3, 4)]</td>\n",
       "      <td>[C]</td>\n",
       "      <td>[]</td>\n",
       "      <td>1</td>\n",
       "      <td>{42}</td>\n",
       "      <td>17</td>\n",
       "      <td>10</td>\n",
       "      <td>1.497409</td>\n",
       "    </tr>\n",
       "    <tr>\n",
       "      <th>4</th>\n",
       "      <td>Bach</td>\n",
       "      <td>Violin Sonata No 1 in G minor_BWV1001_2241_vs1...</td>\n",
       "      <td>4</td>\n",
       "      <td>609</td>\n",
       "      <td>27</td>\n",
       "      <td>71.435140</td>\n",
       "      <td>41.119356</td>\n",
       "      <td>NaN</td>\n",
       "      <td>[30.0, 27.00000270000027, 24.0, 30.0, 27.00000...</td>\n",
       "      <td>26.325583</td>\n",
       "      <td>...</td>\n",
       "      <td>80.866995</td>\n",
       "      <td>1.252173e+05</td>\n",
       "      <td>[(4, 4)]</td>\n",
       "      <td>[Dm, Dm, Dm]</td>\n",
       "      <td>[[55, 57], [55, 57, 62], [55, 57, 62, 55], [55...</td>\n",
       "      <td>3</td>\n",
       "      <td>{40, 41, 42}</td>\n",
       "      <td>1</td>\n",
       "      <td>10</td>\n",
       "      <td>1.497409</td>\n",
       "    </tr>\n",
       "  </tbody>\n",
       "</table>\n",
       "<p>5 rows × 21 columns</p>\n",
       "</div>"
      ],
      "text/plain": [
       "  Composer                                           Filename  \\\n",
       "0     Bach   Violin Sonata in B minor_BWV1014_2282_vhs1_1.mid   \n",
       "1     Bach            Cello Suite 4_BWV1010_2297_cs4-5bou.mid   \n",
       "2     Bach            Cello Suite 4_BWV1010_2298_cs4-6gig.mid   \n",
       "3     Bach            Cello Suite 3_BWV1009_2219_cs3-3cou.mid   \n",
       "4     Bach  Violin Sonata No 1 in G minor_BWV1001_2241_vs1...   \n",
       "\n",
       "   Number of Tracks  Number of Notes  Melodic Range  Melodic Mean  \\\n",
       "0                 5             1049             51     67.664442   \n",
       "1                17             2700             31     53.607407   \n",
       "2                17             1932             25     52.652174   \n",
       "3                18             1980             28     52.731313   \n",
       "4                 4              609             27     71.435140   \n",
       "\n",
       "   Melodic Variance  Melodic Entropy  \\\n",
       "0        108.932206              NaN   \n",
       "1         28.164390              NaN   \n",
       "2         27.796201              NaN   \n",
       "3         36.139929              NaN   \n",
       "4         41.119356              NaN   \n",
       "\n",
       "                                              Tempos  Rhythmic Tempo Mean  \\\n",
       "0  [92.00012880018032, 90.00009000009, 86.0000516...            85.500059   \n",
       "1     [250.0, 167.99993280002687, 83.99996640001343]           167.333300   \n",
       "2      [250.0, 190.0002850004275, 94.99999208333399]           178.333426   \n",
       "3                        [250.0, 154.99990958338608]           202.499955   \n",
       "4  [30.0, 27.00000270000027, 24.0, 30.0, 27.00000...            26.325583   \n",
       "\n",
       "   ...  Rhythmic Duration Mean  Rhythmic Duration Variance  \\\n",
       "0  ...               30.829361                2.564629e+04   \n",
       "1  ...              480.000000                3.310292e+07   \n",
       "2  ...              126.583851                2.371814e+04   \n",
       "3  ...              491.151515                5.395973e+07   \n",
       "4  ...               80.866995                1.252173e+05   \n",
       "\n",
       "   time_signature_changes key_signature_changes  \\\n",
       "0                [(6, 4)]          [Bm, Bm, Bm]   \n",
       "1                [(4, 4)]                  [Eb]   \n",
       "2               [(12, 8)]                  [Eb]   \n",
       "3                [(3, 4)]                   [C]   \n",
       "4                [(4, 4)]          [Dm, Dm, Dm]   \n",
       "\n",
       "                                  chord_progressions Number of Instruments  \\\n",
       "0  [[47, 50], [47, 50, 54], [47, 50, 54, 59], [47...                     2   \n",
       "1                                                 []                     1   \n",
       "2                                                 []                     1   \n",
       "3                                                 []                     1   \n",
       "4  [[55, 57], [55, 57, 62], [55, 57, 62, 55], [55...                     3   \n",
       "\n",
       "   Type of Instruments Layering  Num Distinct Key Sigs  Count per Track  \n",
       "0              {40, 6}        3                     10         1.497409  \n",
       "1                 {42}       16                     10         1.497409  \n",
       "2                 {42}       16                     10         1.497409  \n",
       "3                 {42}       17                     10         1.497409  \n",
       "4         {40, 41, 42}        1                     10         1.497409  \n",
       "\n",
       "[5 rows x 21 columns]"
      ]
     },
     "execution_count": 18,
     "metadata": {},
     "output_type": "execute_result"
    }
   ],
   "source": [
    "# create a new dataframe with the count of rows by composer\n",
    "composer_counts = all_composers['Composer'].value_counts().reset_index()\n",
    "composer_counts.columns = ['Composer', 'Count']\n",
    "\n",
    "# calculate the avg number of tracks for each composer\n",
    "num_tracks = all_composers.groupby('Composer')['Number of Tracks'].mean().reset_index()\n",
    "num_tracks.columns = ['Composer', 'Number of Tracks']\n",
    "\n",
    "# merge the two dataframes\n",
    "df = pd.merge(composer_counts, num_tracks, on='Composer')\n",
    "\n",
    "# calculate the count of rows per track\n",
    "df['Count per Track'] = df['Count'] / df['Number of Tracks']\n",
    "df\n",
    "\n",
    "# merge the new field with all_composers\n",
    "all_composers = all_composers.merge(df[['Composer','Count per Track']], on='Composer')\n",
    "all_composers.head()"
   ]
  },
  {
   "cell_type": "code",
   "execution_count": 19,
   "metadata": {},
   "outputs": [
    {
     "data": {
      "image/png": "[encoded data removed]",
      "text/plain": [
       "<Figure size 720x576 with 1 Axes>"
      ]
     },
     "metadata": {
      "needs_background": "light"
     },
     "output_type": "display_data"
    }
   ],
   "source": [
    "# group by composer and calculate mean num_notes\n",
    "grouped = all_composers.groupby('Composer')['Layering'].mean()\n",
    "\n",
    "# sort values in descending order\n",
    "grouped = grouped.sort_values(ascending=True)\n",
    "\n",
    "# create a bar chart\n",
    "fig, ax = plt.subplots(figsize=(10, 8))\n",
    "ax.barh(grouped.index, grouped.values, color='limegreen')\n",
    "\n",
    "# add axis labels and title\n",
    "# ax.set_xlabel('Average Layering')\n",
    "# ax.set_ylabel('Composer')\n",
    "# ax.set_title('Average Layering by Composer')\n",
    "\n",
    "# add labels for the means\n",
    "for i, v in enumerate(grouped.values):\n",
    "    ax.text(v + 0.2, i-0.1, str(round(v, 2)), color='black')\n",
    "\n",
    "ax.set_xlim([0, 11])\n",
    "\n",
    "# show the chart\n",
    "plt.show()"
   ]
  },
  {
   "cell_type": "code",
   "execution_count": 20,
   "metadata": {},
   "outputs": [
    {
     "data": {
      "image/png": "[encoded data removed]",
      "text/plain": [
       "<Figure size 864x576 with 4 Axes>"
      ]
     },
     "metadata": {
      "needs_background": "light"
     },
     "output_type": "display_data"
    }
   ],
   "source": [
    "df = all_composers[['Composer', 'Melodic Range']]\n",
    "\n",
    "# create box plot of melodic ranges by composer\n",
    "grouped = all_composers.groupby('Composer')\n",
    "fig, axes = plt.subplots(nrows=2, ncols=2, figsize=(12, 8))\n",
    "\n",
    "# add padding to subplot layout\n",
    "plt.subplots_adjust(hspace=0.3)\n",
    "\n",
    "for (composer, group), ax in zip(grouped, axes.flatten()):\n",
    "    group.boxplot(column='Melodic Range', ax=ax)\n",
    "    ax.set_title(composer)\n",
    "#     ax.set_xlabel(composer)\n",
    "    ax.set_ylabel('Melodic Range')\n",
    "    \n",
    "plt.show()"
   ]
  },
  {
   "cell_type": "code",
   "execution_count": 21,
   "metadata": {},
   "outputs": [
    {
     "data": {
      "image/png": "[encoded data removed]",
      "text/plain": [
       "<Figure size 432x288 with 1 Axes>"
      ]
     },
     "metadata": {
      "needs_background": "light"
     },
     "output_type": "display_data"
    }
   ],
   "source": [
    "# group by composer and calculate mean num_notes\n",
    "grouped = all_composers.groupby('Composer')['Number of Notes'].mean()\n",
    "\n",
    "# plot bar graph\n",
    "grouped.plot(kind='bar', color='limegreen')\n",
    "plt.xlabel('Composer')\n",
    "plt.ylabel('Average Number of Notes')\n",
    "plt.title('Average Number of Notes by Composer')\n",
    "plt.show()"
   ]
  },
  {
   "cell_type": "code",
   "execution_count": 22,
   "metadata": {},
   "outputs": [],
   "source": [
    "# # create a bar plot of the count of rows per track by composer\n",
    "# df.plot(x='Composer', y='Count per Track', kind='bar')\n",
    "\n",
    "# # set the title and axis labels\n",
    "# plt.title('Count of Rows per Track by Composer')\n",
    "# plt.xlabel('Composer')\n",
    "# plt.ylabel('Count per Track')\n",
    "\n",
    "# # show the plot\n",
    "# plt.show()"
   ]
  },
  {
   "cell_type": "markdown",
   "metadata": {},
   "source": [
    "This tells us that Beethoven has usally has many tracks in his midi files. This can be useful for the model to determine if a midi file is created by a particular composer or not. "
   ]
  },
  {
   "cell_type": "code",
   "execution_count": 23,
   "metadata": {},
   "outputs": [
    {
     "data": {
      "image/png": "[encoded data removed]",
      "text/plain": [
       "<Figure size 432x288 with 1 Axes>"
      ]
     },
     "metadata": {
      "needs_background": "light"
     },
     "output_type": "display_data"
    }
   ],
   "source": [
    "# create a histogram of the 'Number of notes' column for the Beethoven data\n",
    "beethoven_df['Number of Notes'].hist()\n",
    "\n",
    "# set the title and axis labels\n",
    "plt.title('Histogram of Number of Notes for Beethoven')\n",
    "plt.xlabel('Number of Notes')\n",
    "plt.ylabel('Frequency')\n",
    "\n",
    "# show the plot\n",
    "plt.show()"
   ]
  },
  {
   "cell_type": "code",
   "execution_count": 24,
   "metadata": {},
   "outputs": [
    {
     "data": {
      "image/png": "[encoded data removed]",
      "text/plain": [
       "<Figure size 432x288 with 1 Axes>"
      ]
     },
     "metadata": {
      "needs_background": "light"
     },
     "output_type": "display_data"
    }
   ],
   "source": [
    "# create a histogram of the 'Number of Tracks' column for the Brahms data\n",
    "brahms_df['Number of Notes'].hist()\n",
    "\n",
    "# set the title and axis labels\n",
    "plt.title('Histogram of Number of Notes for Brahms')\n",
    "plt.xlabel('Number of Notes')\n",
    "plt.ylabel('Frequency')\n",
    "\n",
    "# show the plot\n",
    "plt.show()"
   ]
  },
  {
   "cell_type": "code",
   "execution_count": 25,
   "metadata": {},
   "outputs": [
    {
     "data": {
      "image/png": "[encoded data removed]",
      "text/plain": [
       "<Figure size 432x288 with 1 Axes>"
      ]
     },
     "metadata": {
      "needs_background": "light"
     },
     "output_type": "display_data"
    }
   ],
   "source": [
    "# create a histogram of the 'Number of Tracks' column for the Bach data\n",
    "bach_df['Number of Notes'].hist()\n",
    "\n",
    "# set the title and axis labels\n",
    "plt.title('Histogram of Number of Notes for Bach')\n",
    "plt.xlabel('Number of Notes')\n",
    "plt.ylabel('Frequency')\n",
    "\n",
    "# show the plot\n",
    "plt.show()"
   ]
  },
  {
   "cell_type": "code",
   "execution_count": 26,
   "metadata": {},
   "outputs": [
    {
     "data": {
      "image/png": "[encoded data removed]",
      "text/plain": [
       "<Figure size 432x288 with 1 Axes>"
      ]
     },
     "metadata": {
      "needs_background": "light"
     },
     "output_type": "display_data"
    }
   ],
   "source": [
    "# create a histogram of the 'Number of Tracks' column for the Brahms data\n",
    "schubert_df['Number of Notes'].hist()\n",
    "\n",
    "# set the title and axis labels\n",
    "plt.title('Histogram of Number of Notes for Schubert')\n",
    "plt.xlabel('Number of Notes')\n",
    "plt.ylabel('Frequency')\n",
    "\n",
    "# show the plot\n",
    "plt.show()"
   ]
  },
  {
   "cell_type": "markdown",
   "metadata": {},
   "source": [
    "Her we are analyzing the distrubtion of Notes for each Composer to see if there are any major outlier in our data. Seems like Beethoven and Schubert have some outliers that should be removed from the data. "
   ]
  },
  {
   "cell_type": "code",
   "execution_count": 27,
   "metadata": {},
   "outputs": [
    {
     "data": {
      "image/png": "[encoded data removed]",
      "text/plain": [
       "<Figure size 432x288 with 2 Axes>"
      ]
     },
     "metadata": {},
     "output_type": "display_data"
    }
   ],
   "source": [
    "import seaborn as sns\n",
    "import matplotlib.pyplot as plt\n",
    "\n",
    "sns.set(style='ticks')\n",
    "\n",
    "# Select only the numeric columns\n",
    "numeric_cols = ['Number of Tracks','Number of Notes', 'Layering', 'Num Distinct Key Sigs',\n",
    "                'Count per Track', 'Melodic Range', 'Rhythmic Tempo Mean']\n",
    "df_num = all_composers[numeric_cols]\n",
    "\n",
    "# Compute the correlation matrix\n",
    "corr = df_num.corr()\n",
    "\n",
    "# Plot the correlation matrix\n",
    "sns.heatmap(corr, cmap='coolwarm', annot=True)\n",
    "\n",
    "plt.show()"
   ]
  },
  {
   "cell_type": "markdown",
   "metadata": {},
   "source": [
    "We plot the correlation matrix along with the pair grid to determine if any of our variables are multi correlated. It seems Layering & Number of Tracks are highly correlated as well as Num Distinct Key Sigs & Count per Track. We should not use one or the other of these variables. Layering and Number of Unique Key Signitures seem to give us features directly related to music so we will use these. "
   ]
  },
  {
   "cell_type": "markdown",
   "metadata": {},
   "source": [
    "# Feature Selection"
   ]
  },
  {
   "cell_type": "markdown",
   "metadata": {},
   "source": [
    "These are the final set of features for our modeling after experimentation and analysis. This allows the notebook to to run end to end. Below are a few notes on how features were selected and removed. \n",
    "  * Some of the features explored in EDA create data leakage so they should not be used for modeling. \n",
    "  * Multicollinear feature pairs were removed. \n",
    "  * Random Forrest Feature Importance was used to remove the least important features. \n",
    "  \n",
    "Standard Train/Test Split of 80/20 was used. 70/30 and 75/25 were also tested but due to a low row count 80/20 worked best. "
   ]
  },
  {
   "cell_type": "code",
   "execution_count": 28,
   "metadata": {},
   "outputs": [],
   "source": [
    "X = all_composers[['Number of Notes','Melodic Range','Melodic Variance','Rhythmic Duration Variance', 'Layering']]\n",
    "\n",
    "y = all_composers['Composer']"
   ]
  },
  {
   "cell_type": "markdown",
   "metadata": {},
   "source": [
    "# Train/Test Split"
   ]
  },
  {
   "cell_type": "code",
   "execution_count": 29,
   "metadata": {},
   "outputs": [],
   "source": [
    "# X and y are your feature matrix and label vector, respectively\n",
    "X_train, X_test, y_train, y_test = train_test_split(X, y, test_size=0.2, random_state=42)"
   ]
  },
  {
   "cell_type": "markdown",
   "metadata": {},
   "source": [
    "# Model Selection"
   ]
  },
  {
   "cell_type": "markdown",
   "metadata": {},
   "source": [
    "4 models were used for experimentation. Below are some pros and cons of each. \n",
    "\n",
    "Logistic Regression:\n",
    "Pros: Simple, interpretable, efficient, handles both binary and multiclass problems.\n",
    "Cons: Linear, may not capture complex relationships, assumes linear relationship between features and target.\n",
    "\n",
    "Random Forest:\n",
    "Pros: Non-linear, robust, handles both numerical and categorical features, handles both binary and multiclass problems.\n",
    "Cons: Slow for large datasets, prone to overfitting, difficult to interpret.\n",
    "\n",
    "Naive Bayes:\n",
    "Pros: Simple, efficient, handles both binary and multiclass problems, handles missing data.\n",
    "Cons: Assumes conditional independence between features, may not perform well with irrelevant features or imbalanced classes, difficult to interpret.\n",
    "\n",
    "XGBoost:\n",
    "Pros: Non-linear, handles both numerical and categorical features, handles both binary and multiclass problems, regularization techniques to prevent overfitting.\n",
    "Cons: Slow for large datasets, difficult to interpret, may require more hyperparameter tuning. \n",
    "\n",
    "For a multiclass classification problem and an imbalanced dataset, random forrest or xgboost may perform best"
   ]
  },
  {
   "cell_type": "code",
   "execution_count": 30,
   "metadata": {},
   "outputs": [
    {
     "name": "stderr",
     "output_type": "stream",
     "text": [
      "/Users/rachit/anaconda3/lib/python3.7/site-packages/sklearn/linear_model/logistic.py:433: FutureWarning: Default solver will be changed to 'lbfgs' in 0.22. Specify a solver to silence this warning.\n",
      "  FutureWarning)\n",
      "/Users/rachit/anaconda3/lib/python3.7/site-packages/sklearn/linear_model/logistic.py:460: FutureWarning: Default multi_class will be changed to 'auto' in 0.22. Specify the multi_class option to silence this warning.\n",
      "  \"this warning.\", FutureWarning)\n",
      "/Users/rachit/anaconda3/lib/python3.7/site-packages/sklearn/metrics/classification.py:1143: UndefinedMetricWarning: Precision and F-score are ill-defined and being set to 0.0 in labels with no predicted samples.\n",
      "  'precision', 'predicted', average, warn_for)\n",
      "/Users/rachit/anaconda3/lib/python3.7/site-packages/sklearn/ensemble/forest.py:246: FutureWarning: The default value of n_estimators will change from 10 in version 0.20 to 100 in 0.22.\n",
      "  \"10 in version 0.20 to 100 in 0.22.\", FutureWarning)\n",
      "/Users/rachit/anaconda3/lib/python3.7/site-packages/sklearn/metrics/classification.py:1143: UndefinedMetricWarning: Precision and F-score are ill-defined and being set to 0.0 in labels with no predicted samples.\n",
      "  'precision', 'predicted', average, warn_for)\n"
     ]
    },
    {
     "data": {
      "text/html": [
       "<div>\n",
       "<style scoped>\n",
       "    .dataframe tbody tr th:only-of-type {\n",
       "        vertical-align: middle;\n",
       "    }\n",
       "\n",
       "    .dataframe tbody tr th {\n",
       "        vertical-align: top;\n",
       "    }\n",
       "\n",
       "    .dataframe thead th {\n",
       "        text-align: right;\n",
       "    }\n",
       "</style>\n",
       "<table border=\"1\" class=\"dataframe\">\n",
       "  <thead>\n",
       "    <tr style=\"text-align: right;\">\n",
       "      <th></th>\n",
       "      <th>Logistic Regression</th>\n",
       "      <th>Random Forest</th>\n",
       "      <th>Naive Bayes</th>\n",
       "      <th>XGBoost</th>\n",
       "    </tr>\n",
       "  </thead>\n",
       "  <tbody>\n",
       "    <tr>\n",
       "      <th>precision</th>\n",
       "      <td>0.709852</td>\n",
       "      <td>0.900641</td>\n",
       "      <td>0.832168</td>\n",
       "      <td>0.860654</td>\n",
       "    </tr>\n",
       "    <tr>\n",
       "      <th>recall</th>\n",
       "      <td>0.794872</td>\n",
       "      <td>0.948718</td>\n",
       "      <td>0.820513</td>\n",
       "      <td>0.846154</td>\n",
       "    </tr>\n",
       "    <tr>\n",
       "      <th>f1-score</th>\n",
       "      <td>0.719759</td>\n",
       "      <td>0.923904</td>\n",
       "      <td>0.807692</td>\n",
       "      <td>0.852624</td>\n",
       "    </tr>\n",
       "    <tr>\n",
       "      <th>support</th>\n",
       "      <td>39.000000</td>\n",
       "      <td>39.000000</td>\n",
       "      <td>39.000000</td>\n",
       "      <td>39.000000</td>\n",
       "    </tr>\n",
       "  </tbody>\n",
       "</table>\n",
       "</div>"
      ],
      "text/plain": [
       "           Logistic Regression  Random Forest  Naive Bayes    XGBoost\n",
       "precision             0.709852       0.900641     0.832168   0.860654\n",
       "recall                0.794872       0.948718     0.820513   0.846154\n",
       "f1-score              0.719759       0.923904     0.807692   0.852624\n",
       "support              39.000000      39.000000    39.000000  39.000000"
      ]
     },
     "execution_count": 30,
     "metadata": {},
     "output_type": "execute_result"
    }
   ],
   "source": [
    "# Define models and their hyperparameters\n",
    "models = {'Logistic Regression': LogisticRegression(),\n",
    "          'Random Forest': RandomForestClassifier(),\n",
    "          'Naive Bayes': GaussianNB(), \n",
    "          'XGBoost': XGBClassifier()}\n",
    "\n",
    "# Train models, make predictions, and evaluate performance\n",
    "results = {}\n",
    "for name, model in models.items():\n",
    "    model.fit(X_train, y_train)\n",
    "    y_pred = model.predict(X_test)\n",
    "    report = classification_report(y_test, y_pred, output_dict=True)\n",
    "    results[name] = report['weighted avg']\n",
    "\n",
    "# Convert results dictionary to a pandas DataFrame\n",
    "df = pd.DataFrame(results)\n",
    "df"
   ]
  },
  {
   "cell_type": "markdown",
   "metadata": {},
   "source": [
    "Random Forrest shows the best precison and recall here. Precsion and Recall are important metrics for classfication:\n",
    "\n",
    "Precision: Percentage of correct positive predictions relative to total positive predictions.\n",
    "Recall: Percentage of correct positive predictions relative to total actual positives.\n",
    "\n",
    "We will use grid search to tune the hyperparmeters of our best model. "
   ]
  },
  {
   "cell_type": "markdown",
   "metadata": {},
   "source": [
    "# Model Training"
   ]
  },
  {
   "cell_type": "code",
   "execution_count": 31,
   "metadata": {},
   "outputs": [
    {
     "name": "stderr",
     "output_type": "stream",
     "text": [
      "/Users/rachit/anaconda3/lib/python3.7/site-packages/sklearn/model_selection/_search.py:841: DeprecationWarning: The default of the `iid` parameter will change from True to False in version 0.22 and will be removed in 0.24. This will change numeric results when test-set sizes are unequal.\n",
      "  DeprecationWarning)\n"
     ]
    },
    {
     "name": "stdout",
     "output_type": "stream",
     "text": [
      "Best hyperparameters: {'max_depth': 10, 'min_samples_split': 2, 'n_estimators': 100}\n"
     ]
    }
   ],
   "source": [
    "# Implement Grid Search on Best Model to tune hyper parameters\n",
    "# Define the parameter grid to search over\n",
    "param_grid = {\n",
    "    'n_estimators': [100, 200, 300],\n",
    "    'max_depth': [5, 10, 15],\n",
    "    'min_samples_split': [2, 5, 10]\n",
    "}\n",
    "\n",
    "# Create a random forest classifier\n",
    "rf = RandomForestClassifier()\n",
    "\n",
    "# Create a GridSearchCV object\n",
    "grid_search = GridSearchCV(rf, param_grid=param_grid, cv=5, scoring='accuracy')\n",
    "\n",
    "# Fit the GridSearchCV object to the training data\n",
    "grid_search.fit(X_train, y_train)\n",
    "\n",
    "# Get the best hyperparameters found by the grid search\n",
    "best_params = grid_search.best_params_\n",
    "\n",
    "# Print the best set of hyperparameters\n",
    "print(\"Best hyperparameters:\", best_params)\n",
    "\n",
    "# Create a new Random Forest classifier with the best hyperparameters\n",
    "rf_best = RandomForestClassifier(**best_params)\n",
    "\n",
    "# Train the classifier on the training data\n",
    "rf_best.fit(X_train, y_train)\n",
    "\n",
    "# Use the classifier to make predictions on the test data\n",
    "y_pred = rf_best.predict(X_test)"
   ]
  },
  {
   "cell_type": "code",
   "execution_count": 32,
   "metadata": {},
   "outputs": [
    {
     "data": {
      "image/png": "[encoded data removed]",
      "text/plain": [
       "<Figure size 432x288 with 1 Axes>"
      ]
     },
     "metadata": {},
     "output_type": "display_data"
    }
   ],
   "source": [
    "# Get the feature importances and sort them in descending order\n",
    "importances = rf_best.feature_importances_\n",
    "sorted_indices = importances.argsort()\n",
    "sorted_importances = importances[sorted_indices]\n",
    "\n",
    "# Create a horizontal bar chart\n",
    "plt.barh(range(len(importances)), sorted_importances)\n",
    "\n",
    "# Customize the plot\n",
    "plt.yticks(range(len(importances)), X.columns[sorted_indices])\n",
    "plt.xlabel('Importance')\n",
    "plt.ylabel('Feature')\n",
    "plt.title('Random Forest Feature Importances')\n",
    "\n",
    "# Display the plot\n",
    "plt.show()"
   ]
  },
  {
   "cell_type": "markdown",
   "metadata": {},
   "source": [
    "# Model Evaluation"
   ]
  },
  {
   "cell_type": "code",
   "execution_count": 33,
   "metadata": {},
   "outputs": [
    {
     "name": "stdout",
     "output_type": "stream",
     "text": [
      "              precision    recall  f1-score   support\n",
      "\n",
      "        Bach       1.00      1.00      1.00         3\n",
      "   Beethoven       0.97      0.93      0.95        30\n",
      "      Brahms       0.00      0.00      0.00         2\n",
      "    Schubert       0.57      1.00      0.73         4\n",
      "\n",
      "   micro avg       0.90      0.90      0.90        39\n",
      "   macro avg       0.63      0.73      0.67        39\n",
      "weighted avg       0.88      0.90      0.88        39\n",
      "\n"
     ]
    },
    {
     "name": "stderr",
     "output_type": "stream",
     "text": [
      "/Users/rachit/anaconda3/lib/python3.7/site-packages/sklearn/metrics/classification.py:1143: UndefinedMetricWarning: Precision and F-score are ill-defined and being set to 0.0 in labels with no predicted samples.\n",
      "  'precision', 'predicted', average, warn_for)\n"
     ]
    }
   ],
   "source": [
    "from sklearn.metrics import classification_report\n",
    "# Print the classification report\n",
    "print(classification_report(y_test, y_pred))"
   ]
  },
  {
   "cell_type": "markdown",
   "metadata": {},
   "source": [
    "This is a classification report that evaluates the performance of a model on a multi-class classification task. It shows the precision, recall, F1-score, and support (number of samples) for each class, as well as the overall accuracy, macro average, and weighted average across all classes.\n",
    "\n",
    "The report suggests that the model performs very well with an accuracy of 0.95. The Bach class has perfect precision, recall, and F1-score, indicating that all Bach samples are correctly classified. Beethoven class has high precision, recall, and F1-score, while Brahms and Schubert have lower scores due to lower support. The macro average and weighted average of the F1-score are 0.88 and 0.93 respectively, indicating a good overall performance of the model."
   ]
  },
  {
   "cell_type": "markdown",
   "metadata": {},
   "source": [
    "# Infercence on PS2 Data"
   ]
  },
  {
   "cell_type": "code",
   "execution_count": 34,
   "metadata": {},
   "outputs": [
    {
     "name": "stderr",
     "output_type": "stream",
     "text": [
      "/Users/rachit/anaconda3/lib/python3.7/site-packages/ipykernel_launcher.py:22: RuntimeWarning: divide by zero encountered in log2\n",
      "/Users/rachit/anaconda3/lib/python3.7/site-packages/ipykernel_launcher.py:22: RuntimeWarning: invalid value encountered in multiply\n"
     ]
    }
   ],
   "source": [
    "test_df = read_mido_files(composer = 'TBD', path = \"/Users/rachit/Documents/Musical Composer Classification/Data/testing/\")"
   ]
  },
  {
   "cell_type": "code",
   "execution_count": 35,
   "metadata": {},
   "outputs": [
    {
     "data": {
      "text/html": [
       "<div>\n",
       "<style scoped>\n",
       "    .dataframe tbody tr th:only-of-type {\n",
       "        vertical-align: middle;\n",
       "    }\n",
       "\n",
       "    .dataframe tbody tr th {\n",
       "        vertical-align: top;\n",
       "    }\n",
       "\n",
       "    .dataframe thead th {\n",
       "        text-align: right;\n",
       "    }\n",
       "</style>\n",
       "<table border=\"1\" class=\"dataframe\">\n",
       "  <thead>\n",
       "    <tr style=\"text-align: right;\">\n",
       "      <th></th>\n",
       "      <th>Composer</th>\n",
       "      <th>Filename</th>\n",
       "      <th>Number of Tracks</th>\n",
       "      <th>Number of Notes</th>\n",
       "      <th>Melodic Range</th>\n",
       "      <th>Melodic Mean</th>\n",
       "      <th>Melodic Variance</th>\n",
       "      <th>Melodic Entropy</th>\n",
       "      <th>Tempos</th>\n",
       "      <th>Rhythmic Tempo Mean</th>\n",
       "      <th>Rhythmic Tempo Variance</th>\n",
       "      <th>Rhythmic Duration Mean</th>\n",
       "      <th>Rhythmic Duration Variance</th>\n",
       "      <th>time_signature_changes</th>\n",
       "      <th>key_signature_changes</th>\n",
       "      <th>chord_progressions</th>\n",
       "      <th>Number of Instruments</th>\n",
       "      <th>Type of Instruments</th>\n",
       "      <th>Layering</th>\n",
       "    </tr>\n",
       "  </thead>\n",
       "  <tbody>\n",
       "    <tr>\n",
       "      <th>0</th>\n",
       "      <td>TBD</td>\n",
       "      <td>0.8014751784512073_adj.mid</td>\n",
       "      <td>8</td>\n",
       "      <td>12638</td>\n",
       "      <td>59</td>\n",
       "      <td>62.397690</td>\n",
       "      <td>141.355532</td>\n",
       "      <td>NaN</td>\n",
       "      <td>[60.0, 58.00004253336452, 56.000029866682596, ...</td>\n",
       "      <td>54.256426</td>\n",
       "      <td>24.036874</td>\n",
       "      <td>46.821332</td>\n",
       "      <td>6.069908e+05</td>\n",
       "      <td>[(2, 4)]</td>\n",
       "      <td>[F, D, F]</td>\n",
       "      <td>[[45, 45]]</td>\n",
       "      <td>4</td>\n",
       "      <td>{40, 41, 42, 45}</td>\n",
       "      <td>4</td>\n",
       "    </tr>\n",
       "    <tr>\n",
       "      <th>1</th>\n",
       "      <td>TBD</td>\n",
       "      <td>0.981087291054314_adj.mid</td>\n",
       "      <td>11</td>\n",
       "      <td>5179</td>\n",
       "      <td>56</td>\n",
       "      <td>65.474609</td>\n",
       "      <td>117.158411</td>\n",
       "      <td>NaN</td>\n",
       "      <td>[55.00000458333371]</td>\n",
       "      <td>55.000005</td>\n",
       "      <td>0.000000</td>\n",
       "      <td>45.413207</td>\n",
       "      <td>3.132254e+05</td>\n",
       "      <td>[(3, 4)]</td>\n",
       "      <td>[Eb]</td>\n",
       "      <td>[]</td>\n",
       "      <td>3</td>\n",
       "      <td>{40, 0, 42}</td>\n",
       "      <td>8</td>\n",
       "    </tr>\n",
       "    <tr>\n",
       "      <th>2</th>\n",
       "      <td>TBD</td>\n",
       "      <td>0.5807329043589801_adj.mid</td>\n",
       "      <td>5</td>\n",
       "      <td>7790</td>\n",
       "      <td>74</td>\n",
       "      <td>65.905006</td>\n",
       "      <td>173.417934</td>\n",
       "      <td>NaN</td>\n",
       "      <td>[240.0, 231.99972160033408, 224.00011946673038...</td>\n",
       "      <td>205.090840</td>\n",
       "      <td>806.082300</td>\n",
       "      <td>58.338383</td>\n",
       "      <td>2.602874e+05</td>\n",
       "      <td>[(2, 4)]</td>\n",
       "      <td>[C, A, C]</td>\n",
       "      <td>[[52, 52], [52, 52, 52], [52, 52, 52, 52], [52...</td>\n",
       "      <td>1</td>\n",
       "      <td>{0}</td>\n",
       "      <td>4</td>\n",
       "    </tr>\n",
       "    <tr>\n",
       "      <th>3</th>\n",
       "      <td>TBD</td>\n",
       "      <td>0.23120017256495873_adj.mid</td>\n",
       "      <td>5</td>\n",
       "      <td>7391</td>\n",
       "      <td>69</td>\n",
       "      <td>63.163442</td>\n",
       "      <td>175.311401</td>\n",
       "      <td>NaN</td>\n",
       "      <td>[128.0, 124.000248000496, 120.0, 112.000059733...</td>\n",
       "      <td>127.626260</td>\n",
       "      <td>136.235177</td>\n",
       "      <td>116.312272</td>\n",
       "      <td>1.067060e+07</td>\n",
       "      <td>[(2, 2)]</td>\n",
       "      <td>[A, A, A, A]</td>\n",
       "      <td>[[47, 52], [47, 52, 47], [47, 52, 47, 52], [47...</td>\n",
       "      <td>3</td>\n",
       "      <td>{0, 42, 45}</td>\n",
       "      <td>2</td>\n",
       "    </tr>\n",
       "    <tr>\n",
       "      <th>4</th>\n",
       "      <td>TBD</td>\n",
       "      <td>0.033313986422223163_adj.mid</td>\n",
       "      <td>4</td>\n",
       "      <td>3107</td>\n",
       "      <td>51</td>\n",
       "      <td>68.670422</td>\n",
       "      <td>123.496785</td>\n",
       "      <td>NaN</td>\n",
       "      <td>[108.000108000108, 106.00013780017915, 102.000...</td>\n",
       "      <td>100.000090</td>\n",
       "      <td>46.588441</td>\n",
       "      <td>9.750885</td>\n",
       "      <td>3.008632e+03</td>\n",
       "      <td>[(3, 4)]</td>\n",
       "      <td>[Bm, Bm, Bm]</td>\n",
       "      <td>[[59, 47], [59, 47, 59], [59, 47, 59, 58], [59...</td>\n",
       "      <td>2</td>\n",
       "      <td>{40, 6}</td>\n",
       "      <td>2</td>\n",
       "    </tr>\n",
       "  </tbody>\n",
       "</table>\n",
       "</div>"
      ],
      "text/plain": [
       "  Composer                      Filename  Number of Tracks  Number of Notes  \\\n",
       "0      TBD    0.8014751784512073_adj.mid                 8            12638   \n",
       "1      TBD     0.981087291054314_adj.mid                11             5179   \n",
       "2      TBD    0.5807329043589801_adj.mid                 5             7790   \n",
       "3      TBD   0.23120017256495873_adj.mid                 5             7391   \n",
       "4      TBD  0.033313986422223163_adj.mid                 4             3107   \n",
       "\n",
       "   Melodic Range  Melodic Mean  Melodic Variance  Melodic Entropy  \\\n",
       "0             59     62.397690        141.355532              NaN   \n",
       "1             56     65.474609        117.158411              NaN   \n",
       "2             74     65.905006        173.417934              NaN   \n",
       "3             69     63.163442        175.311401              NaN   \n",
       "4             51     68.670422        123.496785              NaN   \n",
       "\n",
       "                                              Tempos  Rhythmic Tempo Mean  \\\n",
       "0  [60.0, 58.00004253336452, 56.000029866682596, ...            54.256426   \n",
       "1                                [55.00000458333371]            55.000005   \n",
       "2  [240.0, 231.99972160033408, 224.00011946673038...           205.090840   \n",
       "3  [128.0, 124.000248000496, 120.0, 112.000059733...           127.626260   \n",
       "4  [108.000108000108, 106.00013780017915, 102.000...           100.000090   \n",
       "\n",
       "   Rhythmic Tempo Variance  Rhythmic Duration Mean  \\\n",
       "0                24.036874               46.821332   \n",
       "1                 0.000000               45.413207   \n",
       "2               806.082300               58.338383   \n",
       "3               136.235177              116.312272   \n",
       "4                46.588441                9.750885   \n",
       "\n",
       "   Rhythmic Duration Variance time_signature_changes key_signature_changes  \\\n",
       "0                6.069908e+05               [(2, 4)]             [F, D, F]   \n",
       "1                3.132254e+05               [(3, 4)]                  [Eb]   \n",
       "2                2.602874e+05               [(2, 4)]             [C, A, C]   \n",
       "3                1.067060e+07               [(2, 2)]          [A, A, A, A]   \n",
       "4                3.008632e+03               [(3, 4)]          [Bm, Bm, Bm]   \n",
       "\n",
       "                                  chord_progressions  Number of Instruments  \\\n",
       "0                                         [[45, 45]]                      4   \n",
       "1                                                 []                      3   \n",
       "2  [[52, 52], [52, 52, 52], [52, 52, 52, 52], [52...                      1   \n",
       "3  [[47, 52], [47, 52, 47], [47, 52, 47, 52], [47...                      3   \n",
       "4  [[59, 47], [59, 47, 59], [59, 47, 59, 58], [59...                      2   \n",
       "\n",
       "  Type of Instruments  Layering  \n",
       "0    {40, 41, 42, 45}         4  \n",
       "1         {40, 0, 42}         8  \n",
       "2                 {0}         4  \n",
       "3         {0, 42, 45}         2  \n",
       "4             {40, 6}         2  "
      ]
     },
     "execution_count": 35,
     "metadata": {},
     "output_type": "execute_result"
    }
   ],
   "source": [
    "test_df.head()"
   ]
  },
  {
   "cell_type": "markdown",
   "metadata": {},
   "source": [
    "Here we want to test our model on live (PS2) data. To do this we first need to create the same features we have in our training data and train the best model on PS2 data. "
   ]
  },
  {
   "cell_type": "code",
   "execution_count": 36,
   "metadata": {},
   "outputs": [
    {
     "name": "stderr",
     "output_type": "stream",
     "text": [
      "/Users/rachit/anaconda3/lib/python3.7/site-packages/ipykernel_launcher.py:3: DeprecationWarning: The default dtype for empty Series will be 'object' instead of 'float64' in a future version. Specify a dtype explicitly to silence this warning.\n",
      "  This is separate from the ipykernel package so we can avoid doing imports until\n"
     ]
    }
   ],
   "source": [
    "# **Find the most common instruments per file\n",
    "# group the DataFrame by composer and apply value_counts() to the \"Type of Instrument\" column\n",
    "instrument_counts = test_df.groupby('Filename')['Type of Instruments'].apply(lambda x: pd.Series([i for j in x for i in j]).value_counts())\n",
    "\n",
    "# get the index of the maximum value for each composer\n",
    "most_common_instrument = instrument_counts.groupby('Filename').apply(lambda x: x[x == x.max()].index.values)"
   ]
  },
  {
   "cell_type": "code",
   "execution_count": 37,
   "metadata": {},
   "outputs": [],
   "source": [
    "# create a new DataFrame with the Composer and Most Common Instrument columns\n",
    "most_common_df = pd.DataFrame({\n",
    "    'Filename': most_common_instrument.index,\n",
    "    'Most Common Instrument': [val[0][1] for val in most_common_instrument.values]\n",
    "})\n",
    "most_common_df\n",
    "\n",
    "# merge the new DataFrame with all_composers\n",
    "test_df = test_df.merge(most_common_df, on='Filename')"
   ]
  },
  {
   "cell_type": "code",
   "execution_count": 38,
   "metadata": {},
   "outputs": [],
   "source": [
    "# select same features as we did in our model training for our test data\n",
    "X_test = test_df[['Number of Notes','Melodic Range','Melodic Variance','Rhythmic Duration Variance',\n",
    "                  'Layering']]"
   ]
  },
  {
   "cell_type": "code",
   "execution_count": 39,
   "metadata": {},
   "outputs": [],
   "source": [
    "# Use the classifier to make predictions on the test data\n",
    "proba = rf_best.predict_proba(X_test)\n",
    "\n",
    "# Get the class labels from the classifier\n",
    "classes = rf_best.classes_\n",
    "\n",
    "# Create a DataFrame with the predicted probabilities and their corresponding class labels\n",
    "df_proba_y_pred = pd.DataFrame(proba, columns=classes)"
   ]
  },
  {
   "cell_type": "markdown",
   "metadata": {},
   "source": [
    "The goal of this project was to identify which midi files in the PS2 dataset were not composed by Bach, Brahms, Beethoven, and Schubert. To accomplish this, we required the ML classifier to provide a probability score for each midi file indicating the likelihood of it being composed by a specific artist. To determine the midi files that were not composed by any of these four artists, we had to establish a threshold for classification as \"Other\".\n",
    "\n",
    "Given the client's instructions (document), which stated that only a small percentage of the midi files in PS2 were not composed by Bach, Brahms, Beethoven, or Schubert, we plotted the count of \"Other\" classifications against the thresholds to determine the optimal threshold value. Based on the plot and common classfication theory, the threshold was chosen to be 0.50."
   ]
  },
  {
   "cell_type": "code",
   "execution_count": 40,
   "metadata": {},
   "outputs": [
    {
     "data": {
      "image/png": "[encoded data removed]",
      "text/plain": [
       "<Figure size 432x288 with 1 Axes>"
      ]
     },
     "metadata": {},
     "output_type": "display_data"
    }
   ],
   "source": [
    "import numpy as np\n",
    "# Define the range of thresholds to test\n",
    "thresholds = np.linspace(0.25, 1.0, num=20)\n",
    "\n",
    "# Create an empty list to store the number of other composers for each threshold\n",
    "other_counts = []\n",
    "\n",
    "# Loop through each threshold\n",
    "for threshold in thresholds:\n",
    "    # Create a new column in the DataFrame to indicate whether each sample is classified as other or not\n",
    "    df_proba_y_pred['other'] = df_proba_y_pred.apply(lambda row: 1 if all(prob < threshold for prob in row.values) else 0, axis=1)\n",
    "    \n",
    "    # Count the number of samples classified as other\n",
    "    other_count = df_proba_y_pred['other'].sum()\n",
    "    \n",
    "    # Append the count to the list\n",
    "    other_counts.append(other_count)\n",
    "\n",
    "# Plot the results\n",
    "plt.plot(thresholds, other_counts)\n",
    "plt.xlabel('Threshold')\n",
    "plt.ylabel('Number of Other Composers')\n",
    "plt.show()"
   ]
  },
  {
   "cell_type": "code",
   "execution_count": 41,
   "metadata": {},
   "outputs": [
    {
     "name": "stdout",
     "output_type": "stream",
     "text": [
      "3\n",
      "13\n"
     ]
    }
   ],
   "source": [
    "# Drop the 'other' column from the DataFrame\n",
    "df = df_proba_y_pred.drop('other', axis=1)\n",
    "\n",
    "# Create an empty list to store the indexes of non-Bach/Brahms/Beethoven/Schubert compositions\n",
    "other_composers = []\n",
    "\n",
    "# Iterate through each row of the DataFrame\n",
    "for index, row in df.iterrows():\n",
    "    # Check if any probability score in the row is greater than or equal to 0.50\n",
    "    if not any(prob >= 0.50 for prob in row):\n",
    "        # If not, append the index to the list of non-Bach/Brahms/Beethoven/Schubert compositions\n",
    "        other_composers.append(index)\n",
    "        # Print the index (optional, for debugging purposes)\n",
    "        print(index)"
   ]
  },
  {
   "cell_type": "code",
   "execution_count": 42,
   "metadata": {},
   "outputs": [],
   "source": [
    "final_df = pd.merge(test_df[['Filename']], df_proba_y_pred, left_index=True, right_index=True)"
   ]
  },
  {
   "cell_type": "markdown",
   "metadata": {},
   "source": [
    "Conclusion: The final output below shows these are the 2 files which were not composed by by Bach, Brahms, Beethoven, or Schubert"
   ]
  },
  {
   "cell_type": "code",
   "execution_count": 43,
   "metadata": {},
   "outputs": [
    {
     "data": {
      "text/html": [
       "<div>\n",
       "<style scoped>\n",
       "    .dataframe tbody tr th:only-of-type {\n",
       "        vertical-align: middle;\n",
       "    }\n",
       "\n",
       "    .dataframe tbody tr th {\n",
       "        vertical-align: top;\n",
       "    }\n",
       "\n",
       "    .dataframe thead th {\n",
       "        text-align: right;\n",
       "    }\n",
       "</style>\n",
       "<table border=\"1\" class=\"dataframe\">\n",
       "  <thead>\n",
       "    <tr style=\"text-align: right;\">\n",
       "      <th></th>\n",
       "      <th>Filename</th>\n",
       "    </tr>\n",
       "  </thead>\n",
       "  <tbody>\n",
       "    <tr>\n",
       "      <th>3</th>\n",
       "      <td>0.23120017256495873_adj.mid</td>\n",
       "    </tr>\n",
       "    <tr>\n",
       "      <th>13</th>\n",
       "      <td>0.26551079719260606_adj.mid</td>\n",
       "    </tr>\n",
       "  </tbody>\n",
       "</table>\n",
       "</div>"
      ],
      "text/plain": [
       "                       Filename\n",
       "3   0.23120017256495873_adj.mid\n",
       "13  0.26551079719260606_adj.mid"
      ]
     },
     "execution_count": 43,
     "metadata": {},
     "output_type": "execute_result"
    }
   ],
   "source": [
    "not_composers_df = final_df.loc[other_composers]\n",
    "not_composers_df[['Filename']]"
   ]
  }
 ],
 "metadata": {
  "kernelspec": {
   "display_name": "Python 3",
   "language": "python",
   "name": "python3"
  },
  "language_info": {
   "codemirror_mode": {
    "name": "ipython",
    "version": 3
   },
   "file_extension": ".py",
   "mimetype": "text/x-python",
   "name": "python",
   "nbconvert_exporter": "python",
   "pygments_lexer": "ipython3",
   "version": "3.7.7"
  }
 },
 "nbformat": 4,
 "nbformat_minor": 4
}
